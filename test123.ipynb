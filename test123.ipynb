{
 "cells": [
  {
   "cell_type": "code",
   "execution_count": 2,
   "id": "1ecd76b2",
   "metadata": {},
   "outputs": [],
   "source": [
    "import os \n",
    "from skimage import io \n",
    "from deepcell.applications import CellTracking\n",
    "from tifffile import imread\n",
    "import csv\n",
    "import tifffile \n",
    "\n",
    "import copy\n",
    "import os\n",
    "\n",
    "import imageio\n",
    "import matplotlib as mpl\n",
    "from matplotlib.colors import ListedColormap\n",
    "import matplotlib.pyplot as plt\n",
    "import numpy as np\n",
    "\n",
    "from deepcell.applications import NuclearSegmentation, CellTracking\n",
    "from deepcell_tracking.trk_io import load_trks\n",
    "  \n",
    "def shuffle_colors(ymax, cmap):\n",
    "    \"\"\"Utility function to generate a colormap for a labeled image\"\"\"\n",
    "    cmap = mpl.colormaps[cmap].resampled(ymax)\n",
    "    nmap = cmap(range(ymax))\n",
    "    np.random.shuffle(nmap)\n",
    "    cmap = ListedColormap(nmap)\n",
    "    cmap.set_bad('black')\n",
    "    return cmap\n",
    "\n",
    "def tif_to_nparray(filepath):\n",
    "    # Read the TIF file\n",
    "    tif_data = imread(filepath)\n",
    "\n",
    "    # Convert the TIF data to a NumPy array\n",
    "    np_array = np.array(tif_data)\n",
    "\n",
    "    return np_array"
   ]
  },
  {
   "cell_type": "code",
   "execution_count": 51,
   "id": "3131b775",
   "metadata": {},
   "outputs": [],
   "source": [
    "OUTPUT_DIR = '/Users/lian/Desktop'\n",
    "\n",
    "# (raw image)\n",
    "folder_path = '/Users/lian/Desktop/XY002.tif'\n",
    "\n",
    "# (segmented image)\n",
    "folder_path1 = '/Users/lian/Desktop/masks2.tif'"
   ]
  },
  {
   "cell_type": "code",
   "execution_count": 1,
   "id": "56c175e4",
   "metadata": {
    "scrolled": true
   },
   "outputs": [
    {
     "ename": "NameError",
     "evalue": "name 'tif_to_nparray' is not defined",
     "output_type": "error",
     "traceback": [
      "\u001b[0;31m---------------------------------------------------------------------------\u001b[0m",
      "\u001b[0;31mNameError\u001b[0m                                 Traceback (most recent call last)",
      "Cell \u001b[0;32mIn[1], line 2\u001b[0m\n\u001b[1;32m      1\u001b[0m \u001b[38;5;66;03m# raw image array\u001b[39;00m\n\u001b[0;32m----> 2\u001b[0m y \u001b[38;5;241m=\u001b[39m \u001b[43mtif_to_nparray\u001b[49m(folder_path) \n\u001b[1;32m      3\u001b[0m y1 \u001b[38;5;241m=\u001b[39m y[\u001b[38;5;241m.\u001b[39m\u001b[38;5;241m.\u001b[39m\u001b[38;5;241m.\u001b[39m, np\u001b[38;5;241m.\u001b[39mnewaxis]  \n\u001b[1;32m      5\u001b[0m \u001b[38;5;28mprint\u001b[39m(\u001b[38;5;124m\"\u001b[39m\u001b[38;5;124mraw image converted\u001b[39m\u001b[38;5;124m\"\u001b[39m, y1\u001b[38;5;241m.\u001b[39mshape)  \n",
      "\u001b[0;31mNameError\u001b[0m: name 'tif_to_nparray' is not defined"
     ]
    }
   ],
   "source": [
    "# raw image array\n",
    "y = tif_to_nparray(folder_path) \n",
    "y1 = y[..., np.newaxis]  \n",
    "\n",
    "print(\"raw image converted\", y1.shape)  \n",
    "\n",
    "# segmented image array \n",
    "X = tif_to_nparray(folder_path1)\n",
    "X1 = X[..., np.newaxis]  \n",
    "\n",
    "print(\"segmented image converted\", X1.shape)"
   ]
  },
  {
   "cell_type": "code",
   "execution_count": null,
   "id": "4ed062e7",
   "metadata": {},
   "outputs": [],
   "source": [
    "# Tracking = CellTracking(model=None, neighborhood_encoder=None, distance_threshold=64, appearance_dim=32, birth=0.99, death=0.99, division=0.01, track_length=8, embedding_axis=0, crop_mode='resize', norm=True)\n",
    "# ^above is default parameters of the Tracker\n",
    "tracker = CellTracking()\n",
    "\n",
    "tracked_data = tracker.track(image = y1, labels = X1)\n",
    "y_tracked = tracked_data['y_tracked']"
   ]
  },
  {
   "cell_type": "code",
   "execution_count": 111,
   "id": "d536dc36",
   "metadata": {
    "scrolled": false
   },
   "outputs": [],
   "source": [
    "y_tracked = tracked_data['y_tracked']\n",
    "# Save as a TIFF image\n",
    "tifffile.imsave(OUTPUT_DIR+\"/test-2223.tif\", Dict['y_tracked'])"
   ]
  },
  {
   "cell_type": "code",
   "execution_count": null,
   "id": "a5d7b6e0",
   "metadata": {},
   "outputs": [],
   "source": [
    "# Save as csv\n",
    "\n",
    "# Extract keys and values from the dictionary \n",
    "keys = Dict[\"tracks\"].keys()\n",
    "values = Dict[\"tracks\"].values() \n",
    "\n",
    "output_file = 'data2.csv'\n",
    "\n",
    "with open(OUTPUT_DIR + \"/\" + output_file, 'w', newline='') as file:\n",
    "    writer = csv.writer(file)\n",
    "    writer.writerow(keys)\n",
    "    writer.writerow(values)"
   ]
  },
  {
   "cell_type": "code",
   "execution_count": 44,
   "id": "1c66b2b0",
   "metadata": {
    "scrolled": true
   },
   "outputs": [],
   "source": [
    "#save as gif\n",
    "\n",
    "ymax = np.max(y_tracked)\n",
    "cmap = shuffle_colors(ymax, 'tab20')\n",
    "\n",
    "def plot(x, y):\n",
    "    yy = copy.deepcopy(y)\n",
    "    yy = np.ma.masked_equal(yy, 0)\n",
    "    \n",
    "    fig, ax = plt.subplots(1, 2, figsize=(12, 6))\n",
    "    ax[0].imshow(x, cmap='Greys_r')\n",
    "    ax[0].axis('off')\n",
    "    ax[0].set_title('Raw')\n",
    "    ax[1].imshow(yy, cmap=cmap, vmax=ymax)\n",
    "    ax[1].set_title('Tracked')\n",
    "    ax[1].axis('off')\n",
    "\n",
    "    fig.canvas.draw()  # draw the canvas, cache the renderer\n",
    "    image = np.frombuffer(fig.canvas.tostring_rgb(), dtype='uint8')\n",
    "    image = image.reshape(fig.canvas.get_width_height()[::-1] + (3,))\n",
    "    plt.close(fig)\n",
    "\n",
    "    return image\n",
    "\n",
    "imageio.mimsave(\n",
    "    './track.gif',\n",
    "    [plot(y1[i,...,0], y_tracked[i,...,0])\n",
    "     for i in range(y_tracked.shape[0])]\n",
    ")"
   ]
  },
  {
   "cell_type": "code",
   "execution_count": null,
   "id": "4f349a9d",
   "metadata": {},
   "outputs": [],
   "source": []
  }
 ],
 "metadata": {
  "kernelspec": {
   "display_name": "Python 3 (ipykernel)",
   "language": "python",
   "name": "python3"
  },
  "language_info": {
   "codemirror_mode": {
    "name": "ipython",
    "version": 3
   },
   "file_extension": ".py",
   "mimetype": "text/x-python",
   "name": "python",
   "nbconvert_exporter": "python",
   "pygments_lexer": "ipython3",
   "version": "3.10.9"
  }
 },
 "nbformat": 4,
 "nbformat_minor": 5
}
